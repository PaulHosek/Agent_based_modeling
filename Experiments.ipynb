{
 "cells": [
  {
   "cell_type": "code",
   "execution_count": 1,
   "outputs": [],
   "source": [
    "from geo_model2 import GeoModel\n",
    "import numpy as np\n",
    "import matplotlib.pyplot as plt\n",
    "import seaborn as sns"
   ],
   "metadata": {
    "collapsed": false,
    "pycharm": {
     "name": "#%%\n"
    }
   }
  },
  {
   "cell_type": "markdown",
   "source": [
    "## Neighbourhood Influence only"
   ],
   "metadata": {
    "collapsed": false,
    "pycharm": {
     "name": "#%% md\n"
    }
   }
  },
  {
   "cell_type": "code",
   "execution_count": null,
   "outputs": [
    {
     "name": "stderr",
     "output_type": "stream",
     "text": [
      "/Users/paulhosek/PycharmProjects/Agent_based_modeling/country2.py:212: RuntimeWarning: divide by zero encountered in divide\n",
      "  self.mrs = np.divide(np.multiply(np.add(self.w_energy, self.produced_energy), self.m_money),\n",
      "/Users/paulhosek/PycharmProjects/Agent_based_modeling/country2.py:175: RuntimeWarning: invalid value encountered in power\n",
      "  return np.power(self.w_energy + self.produced_energy + add_energy, self.m_energy / mt) \\\n",
      "/Users/paulhosek/PycharmProjects/Agent_based_modeling/country2.py:212: RuntimeWarning: divide by zero encountered in divide\n",
      "  self.mrs = np.divide(np.multiply(np.add(self.w_energy, self.produced_energy), self.m_money),\n",
      "/Users/paulhosek/opt/anaconda3/envs/Agent_based_modeling/lib/python3.10/site-packages/libpysal/weights/weights.py:172: UserWarning: The weights matrix is not fully connected: \n",
      " There are 5 disconnected components.\n",
      " There are 3 islands with ids: 1, 3, 17.\n",
      "  warnings.warn(message)\n",
      "/Users/paulhosek/opt/anaconda3/envs/Agent_based_modeling/lib/python3.10/site-packages/networkx/algorithms/community/quality.py:241: RuntimeWarning: divide by zero encountered in double_scalars\n",
      "  norm = 1 / deg_sum**2\n",
      "/Users/paulhosek/opt/anaconda3/envs/Agent_based_modeling/lib/python3.10/site-packages/networkx/algorithms/community/quality.py:250: RuntimeWarning: invalid value encountered in double_scalars\n",
      "  return L_c / m - resolution * out_degree_sum * in_degree_sum * norm\n",
      "/Users/paulhosek/opt/anaconda3/envs/Agent_based_modeling/lib/python3.10/site-packages/networkx/algorithms/community/louvain.py:259: RuntimeWarning: invalid value encountered in double_scalars\n",
      "  remove_cost = -weights2com[best_com] / m + resolution * (\n",
      "/Users/paulhosek/opt/anaconda3/envs/Agent_based_modeling/lib/python3.10/site-packages/networkx/algorithms/community/louvain.py:277: RuntimeWarning: divide by zero encountered in double_scalars\n",
      "  + wt / m\n",
      "/Users/paulhosek/opt/anaconda3/envs/Agent_based_modeling/lib/python3.10/site-packages/networkx/algorithms/community/louvain.py:278: RuntimeWarning: divide by zero encountered in double_scalars\n",
      "  - resolution * (Stot[nbr_com] * degree) / (2 * m**2)\n",
      "/Users/paulhosek/opt/anaconda3/envs/Agent_based_modeling/lib/python3.10/site-packages/networkx/algorithms/community/louvain.py:277: RuntimeWarning: invalid value encountered in double_scalars\n",
      "  + wt / m\n",
      "/Users/paulhosek/opt/anaconda3/envs/Agent_based_modeling/lib/python3.10/site-packages/networkx/algorithms/community/louvain.py:278: RuntimeWarning: invalid value encountered in double_scalars\n",
      "  - resolution * (Stot[nbr_com] * degree) / (2 * m**2)\n",
      "/Users/paulhosek/PycharmProjects/Agent_based_modeling/country2.py:212: RuntimeWarning: divide by zero encountered in divide\n",
      "  self.mrs = np.divide(np.multiply(np.add(self.w_energy, self.produced_energy), self.m_money),\n",
      "/Users/paulhosek/PycharmProjects/Agent_based_modeling/country2.py:175: RuntimeWarning: invalid value encountered in power\n",
      "  return np.power(self.w_energy + self.produced_energy + add_energy, self.m_energy / mt) \\\n",
      "/Users/paulhosek/PycharmProjects/Agent_based_modeling/country2.py:212: RuntimeWarning: divide by zero encountered in divide\n",
      "  self.mrs = np.divide(np.multiply(np.add(self.w_energy, self.produced_energy), self.m_money),\n",
      "/Users/paulhosek/opt/anaconda3/envs/Agent_based_modeling/lib/python3.10/site-packages/libpysal/weights/weights.py:172: UserWarning: The weights matrix is not fully connected: \n",
      " There are 5 disconnected components.\n",
      " There are 3 islands with ids: 1, 3, 17.\n",
      "  warnings.warn(message)\n",
      "/Users/paulhosek/opt/anaconda3/envs/Agent_based_modeling/lib/python3.10/site-packages/networkx/algorithms/community/quality.py:241: RuntimeWarning: divide by zero encountered in double_scalars\n",
      "  norm = 1 / deg_sum**2\n",
      "/Users/paulhosek/opt/anaconda3/envs/Agent_based_modeling/lib/python3.10/site-packages/networkx/algorithms/community/quality.py:250: RuntimeWarning: invalid value encountered in double_scalars\n",
      "  return L_c / m - resolution * out_degree_sum * in_degree_sum * norm\n",
      "/Users/paulhosek/opt/anaconda3/envs/Agent_based_modeling/lib/python3.10/site-packages/networkx/algorithms/community/louvain.py:259: RuntimeWarning: invalid value encountered in double_scalars\n",
      "  remove_cost = -weights2com[best_com] / m + resolution * (\n",
      "/Users/paulhosek/opt/anaconda3/envs/Agent_based_modeling/lib/python3.10/site-packages/networkx/algorithms/community/louvain.py:277: RuntimeWarning: divide by zero encountered in double_scalars\n",
      "  + wt / m\n",
      "/Users/paulhosek/opt/anaconda3/envs/Agent_based_modeling/lib/python3.10/site-packages/networkx/algorithms/community/louvain.py:278: RuntimeWarning: divide by zero encountered in double_scalars\n",
      "  - resolution * (Stot[nbr_com] * degree) / (2 * m**2)\n",
      "/Users/paulhosek/opt/anaconda3/envs/Agent_based_modeling/lib/python3.10/site-packages/networkx/algorithms/community/louvain.py:277: RuntimeWarning: invalid value encountered in double_scalars\n",
      "  + wt / m\n",
      "/Users/paulhosek/opt/anaconda3/envs/Agent_based_modeling/lib/python3.10/site-packages/networkx/algorithms/community/louvain.py:278: RuntimeWarning: invalid value encountered in double_scalars\n",
      "  - resolution * (Stot[nbr_com] * degree) / (2 * m**2)\n",
      "/Users/paulhosek/PycharmProjects/Agent_based_modeling/country2.py:212: RuntimeWarning: divide by zero encountered in divide\n",
      "  self.mrs = np.divide(np.multiply(np.add(self.w_energy, self.produced_energy), self.m_money),\n",
      "/Users/paulhosek/PycharmProjects/Agent_based_modeling/country2.py:175: RuntimeWarning: invalid value encountered in power\n",
      "  return np.power(self.w_energy + self.produced_energy + add_energy, self.m_energy / mt) \\\n",
      "/Users/paulhosek/PycharmProjects/Agent_based_modeling/country2.py:212: RuntimeWarning: divide by zero encountered in divide\n",
      "  self.mrs = np.divide(np.multiply(np.add(self.w_energy, self.produced_energy), self.m_money),\n",
      "/Users/paulhosek/opt/anaconda3/envs/Agent_based_modeling/lib/python3.10/site-packages/libpysal/weights/weights.py:172: UserWarning: The weights matrix is not fully connected: \n",
      " There are 5 disconnected components.\n",
      " There are 3 islands with ids: 1, 3, 17.\n",
      "  warnings.warn(message)\n",
      "/Users/paulhosek/opt/anaconda3/envs/Agent_based_modeling/lib/python3.10/site-packages/networkx/algorithms/community/quality.py:241: RuntimeWarning: divide by zero encountered in double_scalars\n",
      "  norm = 1 / deg_sum**2\n",
      "/Users/paulhosek/opt/anaconda3/envs/Agent_based_modeling/lib/python3.10/site-packages/networkx/algorithms/community/quality.py:250: RuntimeWarning: invalid value encountered in double_scalars\n",
      "  return L_c / m - resolution * out_degree_sum * in_degree_sum * norm\n",
      "/Users/paulhosek/opt/anaconda3/envs/Agent_based_modeling/lib/python3.10/site-packages/networkx/algorithms/community/louvain.py:259: RuntimeWarning: invalid value encountered in double_scalars\n",
      "  remove_cost = -weights2com[best_com] / m + resolution * (\n",
      "/Users/paulhosek/opt/anaconda3/envs/Agent_based_modeling/lib/python3.10/site-packages/networkx/algorithms/community/louvain.py:277: RuntimeWarning: divide by zero encountered in double_scalars\n",
      "  + wt / m\n",
      "/Users/paulhosek/opt/anaconda3/envs/Agent_based_modeling/lib/python3.10/site-packages/networkx/algorithms/community/louvain.py:278: RuntimeWarning: divide by zero encountered in double_scalars\n",
      "  - resolution * (Stot[nbr_com] * degree) / (2 * m**2)\n",
      "/Users/paulhosek/opt/anaconda3/envs/Agent_based_modeling/lib/python3.10/site-packages/networkx/algorithms/community/louvain.py:277: RuntimeWarning: invalid value encountered in double_scalars\n",
      "  + wt / m\n",
      "/Users/paulhosek/opt/anaconda3/envs/Agent_based_modeling/lib/python3.10/site-packages/networkx/algorithms/community/louvain.py:278: RuntimeWarning: invalid value encountered in double_scalars\n",
      "  - resolution * (Stot[nbr_com] * degree) / (2 * m**2)\n",
      "/Users/paulhosek/PycharmProjects/Agent_based_modeling/country2.py:212: RuntimeWarning: divide by zero encountered in divide\n",
      "  self.mrs = np.divide(np.multiply(np.add(self.w_energy, self.produced_energy), self.m_money),\n",
      "/Users/paulhosek/PycharmProjects/Agent_based_modeling/country2.py:175: RuntimeWarning: invalid value encountered in power\n",
      "  return np.power(self.w_energy + self.produced_energy + add_energy, self.m_energy / mt) \\\n",
      "/Users/paulhosek/PycharmProjects/Agent_based_modeling/country2.py:212: RuntimeWarning: divide by zero encountered in divide\n",
      "  self.mrs = np.divide(np.multiply(np.add(self.w_energy, self.produced_energy), self.m_money),\n",
      "/Users/paulhosek/opt/anaconda3/envs/Agent_based_modeling/lib/python3.10/site-packages/libpysal/weights/weights.py:172: UserWarning: The weights matrix is not fully connected: \n",
      " There are 5 disconnected components.\n",
      " There are 3 islands with ids: 1, 3, 17.\n",
      "  warnings.warn(message)\n",
      "/Users/paulhosek/opt/anaconda3/envs/Agent_based_modeling/lib/python3.10/site-packages/networkx/algorithms/community/quality.py:241: RuntimeWarning: divide by zero encountered in double_scalars\n",
      "  norm = 1 / deg_sum**2\n",
      "/Users/paulhosek/opt/anaconda3/envs/Agent_based_modeling/lib/python3.10/site-packages/networkx/algorithms/community/quality.py:250: RuntimeWarning: invalid value encountered in double_scalars\n",
      "  return L_c / m - resolution * out_degree_sum * in_degree_sum * norm\n",
      "/Users/paulhosek/opt/anaconda3/envs/Agent_based_modeling/lib/python3.10/site-packages/networkx/algorithms/community/louvain.py:259: RuntimeWarning: invalid value encountered in double_scalars\n",
      "  remove_cost = -weights2com[best_com] / m + resolution * (\n",
      "/Users/paulhosek/opt/anaconda3/envs/Agent_based_modeling/lib/python3.10/site-packages/networkx/algorithms/community/louvain.py:277: RuntimeWarning: divide by zero encountered in double_scalars\n",
      "  + wt / m\n",
      "/Users/paulhosek/opt/anaconda3/envs/Agent_based_modeling/lib/python3.10/site-packages/networkx/algorithms/community/louvain.py:278: RuntimeWarning: divide by zero encountered in double_scalars\n",
      "  - resolution * (Stot[nbr_com] * degree) / (2 * m**2)\n",
      "/Users/paulhosek/opt/anaconda3/envs/Agent_based_modeling/lib/python3.10/site-packages/networkx/algorithms/community/louvain.py:277: RuntimeWarning: invalid value encountered in double_scalars\n",
      "  + wt / m\n",
      "/Users/paulhosek/opt/anaconda3/envs/Agent_based_modeling/lib/python3.10/site-packages/networkx/algorithms/community/louvain.py:278: RuntimeWarning: invalid value encountered in double_scalars\n",
      "  - resolution * (Stot[nbr_com] * degree) / (2 * m**2)\n",
      "/Users/paulhosek/PycharmProjects/Agent_based_modeling/country2.py:212: RuntimeWarning: divide by zero encountered in divide\n",
      "  self.mrs = np.divide(np.multiply(np.add(self.w_energy, self.produced_energy), self.m_money),\n",
      "/Users/paulhosek/opt/anaconda3/envs/Agent_based_modeling/lib/python3.10/site-packages/libpysal/weights/weights.py:172: UserWarning: The weights matrix is not fully connected: \n",
      " There are 5 disconnected components.\n",
      " There are 3 islands with ids: 1, 3, 17.\n",
      "  warnings.warn(message)\n",
      "/Users/paulhosek/PycharmProjects/Agent_based_modeling/country2.py:175: RuntimeWarning: invalid value encountered in power\n",
      "  return np.power(self.w_energy + self.produced_energy + add_energy, self.m_energy / mt) \\\n",
      "/Users/paulhosek/PycharmProjects/Agent_based_modeling/country2.py:212: RuntimeWarning: divide by zero encountered in divide\n",
      "  self.mrs = np.divide(np.multiply(np.add(self.w_energy, self.produced_energy), self.m_money),\n",
      "/Users/paulhosek/opt/anaconda3/envs/Agent_based_modeling/lib/python3.10/site-packages/networkx/algorithms/community/quality.py:241: RuntimeWarning: divide by zero encountered in double_scalars\n",
      "  norm = 1 / deg_sum**2\n",
      "/Users/paulhosek/opt/anaconda3/envs/Agent_based_modeling/lib/python3.10/site-packages/networkx/algorithms/community/quality.py:250: RuntimeWarning: invalid value encountered in double_scalars\n",
      "  return L_c / m - resolution * out_degree_sum * in_degree_sum * norm\n",
      "/Users/paulhosek/opt/anaconda3/envs/Agent_based_modeling/lib/python3.10/site-packages/networkx/algorithms/community/louvain.py:259: RuntimeWarning: invalid value encountered in double_scalars\n",
      "  remove_cost = -weights2com[best_com] / m + resolution * (\n",
      "/Users/paulhosek/opt/anaconda3/envs/Agent_based_modeling/lib/python3.10/site-packages/networkx/algorithms/community/louvain.py:277: RuntimeWarning: divide by zero encountered in double_scalars\n",
      "  + wt / m\n",
      "/Users/paulhosek/opt/anaconda3/envs/Agent_based_modeling/lib/python3.10/site-packages/networkx/algorithms/community/louvain.py:278: RuntimeWarning: divide by zero encountered in double_scalars\n",
      "  - resolution * (Stot[nbr_com] * degree) / (2 * m**2)\n",
      "/Users/paulhosek/opt/anaconda3/envs/Agent_based_modeling/lib/python3.10/site-packages/networkx/algorithms/community/louvain.py:277: RuntimeWarning: invalid value encountered in double_scalars\n",
      "  + wt / m\n",
      "/Users/paulhosek/opt/anaconda3/envs/Agent_based_modeling/lib/python3.10/site-packages/networkx/algorithms/community/louvain.py:278: RuntimeWarning: invalid value encountered in double_scalars\n",
      "  - resolution * (Stot[nbr_com] * degree) / (2 * m**2)\n"
     ]
    }
   ],
   "source": [
    "# simulate\n",
    "seed = 187758\n",
    "parameters = {\"cost_clean\": .4, \"cost_dirty\":.2, \"base_output_dirty\":0.4, \"base_output_clean\":0.2,\n",
    "                 \"metabolism_scalar_energy\":1, \"metabolism_scalar_money\":1, \"eta_global_trade\":0.01,\n",
    "                 \"predisposition_decrease\":0.000_05, \"pareto_optimal\":False, \"seed\":seed, \"prob_neigh_influence\" : 0}\n",
    "x_probs = np.linspace(0,1,num=20)\n",
    "\n",
    "welfares_test = np.empty(len(x_probs))\n",
    "gini_vals = np.empty(len(x_probs))\n",
    "modularity_vals = np.empty((len(x_probs)))\n",
    "for idx, x in enumerate(x_probs):\n",
    "    args = parameters.copy()\n",
    "    args[\"prob_neigh_influence\"] = x\n",
    "\n",
    "    cur_model = GeoModel(**args) # 1000 runs\n",
    "    cur_model.run_model(1024)\n",
    "    data = cur_model.datacollector.get_model_vars_dataframe().iloc[-1]\n",
    "    welfares_test[idx] = data.Welfare\n",
    "    modularity_vals[idx] = data.modularity_ga\n",
    "    gini_vals[idx] = data.Gini_welfare"
   ],
   "metadata": {
    "collapsed": false,
    "pycharm": {
     "name": "#%%\n",
     "is_executing": true
    }
   }
  },
  {
   "cell_type": "code",
   "execution_count": null,
   "outputs": [],
   "source": [
    "# plot\n",
    "plt.figure()\n",
    "plt.plot(welfares_test)\n",
    "plt.plot(modularity_vals)\n",
    "plt.plot(gini_vals)"
   ],
   "metadata": {
    "collapsed": false,
    "pycharm": {
     "name": "#%%\n",
     "is_executing": true
    }
   }
  }
 ],
 "metadata": {
  "kernelspec": {
   "display_name": "Python 3",
   "language": "python",
   "name": "python3"
  },
  "language_info": {
   "codemirror_mode": {
    "name": "ipython",
    "version": 2
   },
   "file_extension": ".py",
   "mimetype": "text/x-python",
   "name": "python",
   "nbconvert_exporter": "python",
   "pygments_lexer": "ipython2",
   "version": "2.7.6"
  }
 },
 "nbformat": 4,
 "nbformat_minor": 0
}